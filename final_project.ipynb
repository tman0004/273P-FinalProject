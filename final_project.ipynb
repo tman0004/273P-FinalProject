{
 "cells": [
  {
   "cell_type": "markdown",
   "id": "502e29d2",
   "metadata": {},
   "source": [
    "## Importing Libraries"
   ]
  },
  {
   "cell_type": "code",
   "execution_count": null,
   "id": "2c2aa53f",
   "metadata": {},
   "outputs": [],
   "source": [
    "import matplotlib.pyplot as plt\n",
    "import seaborn as sns\n",
    "import numpy as np \n",
    "import pandas as pd \n",
    "import os"
   ]
  },
  {
   "cell_type": "markdown",
   "id": "f099bb09",
   "metadata": {},
   "source": [
    "## Data Analysis"
   ]
  },
  {
   "cell_type": "code",
   "execution_count": null,
   "id": "0553ea77",
   "metadata": {},
   "outputs": [],
   "source": [
    "train_df = pd.read_csv('data/train.csv')\n",
    "test_df = pd.read_csv('data/test.csv')"
   ]
  },
  {
   "cell_type": "code",
   "execution_count": null,
   "id": "02fd4eca",
   "metadata": {},
   "outputs": [],
   "source": [
    "train_df.info()"
   ]
  },
  {
   "cell_type": "code",
   "execution_count": null,
   "id": "155377fb",
   "metadata": {},
   "outputs": [],
   "source": [
    "data = pd.concat([train_df['SalePrice'], train_df['GrLivArea']], axis=1)\n",
    "data.plot.scatter(x='GrLivArea', y='SalePrice', ylim=(0,900000));"
   ]
  },
  {
   "cell_type": "markdown",
   "id": "c71a3777",
   "metadata": {},
   "source": [
    "Positive correlation between SalePrice and livng area square footage"
   ]
  },
  {
   "cell_type": "code",
   "execution_count": null,
   "id": "017a0336",
   "metadata": {},
   "outputs": [],
   "source": [
    "data = pd.concat([train_df['SalePrice'], train_df['YearBuilt']], axis=1)\n",
    "data.plot.scatter(x='YearBuilt', y='SalePrice');"
   ]
  },
  {
   "cell_type": "markdown",
   "id": "b7aa60b3",
   "metadata": {},
   "source": [
    "Exponential like correlation between SalePrice and YearBuilt"
   ]
  },
  {
   "cell_type": "code",
   "execution_count": null,
   "id": "efe1c7e9",
   "metadata": {},
   "outputs": [],
   "source": [
    "data = pd.concat([train_df['SalePrice'], train_df['OverallQual']], axis=1)\n",
    "f, ax = plt.subplots(figsize=(8, 6))\n",
    "fig = sns.boxplot(x='OverallQual', y=\"SalePrice\", data=data)\n",
    "fig.axis(ymin=0, ymax=800000);"
   ]
  },
  {
   "cell_type": "markdown",
   "id": "5e13de77",
   "metadata": {},
   "source": [
    "Positive correlation between SalePrice and OverallQual"
   ]
  },
  {
   "cell_type": "code",
   "execution_count": null,
   "id": "96a7f785",
   "metadata": {},
   "outputs": [],
   "source": [
    "corrmat = train_df.corr()\n",
    "f, ax = plt.subplots(figsize=(12, 9))\n",
    "sns.heatmap(corrmat, vmax=.8, square=True);"
   ]
  },
  {
   "cell_type": "markdown",
   "id": "e58ab416",
   "metadata": {},
   "source": [
    "Corrleation between features"
   ]
  },
  {
   "cell_type": "code",
   "execution_count": null,
   "id": "28ccf1fa",
   "metadata": {},
   "outputs": [],
   "source": [
    "k = 10 #number of variables for heatmap\n",
    "cols = corrmat.nlargest(k, 'SalePrice')['SalePrice'].index\n",
    "cm = np.corrcoef(train_df[cols].values.T)\n",
    "#sns.set(font_scale=1.25)\n",
    "hm = sns.heatmap(cm, cbar=True, annot=True, square=True, fmt='.2f', annot_kws={'size': 10}, yticklabels=cols.values, xticklabels=cols.values)\n",
    "plt.show()"
   ]
  },
  {
   "cell_type": "markdown",
   "id": "8e075e93",
   "metadata": {},
   "source": [
    "Correlation between top 10 most correlated features with respect to SalePrice"
   ]
  },
  {
   "cell_type": "code",
   "execution_count": null,
   "id": "fc694284",
   "metadata": {},
   "outputs": [],
   "source": [
    "sns.set()\n",
    "cols = ['SalePrice', 'OverallQual', 'GrLivArea', 'GarageCars', 'TotalBsmtSF', 'FullBath', 'YearBuilt']\n",
    "sns.pairplot(train_df[cols], height = 2.5)\n",
    "plt.show();"
   ]
  },
  {
   "cell_type": "markdown",
   "id": "e1329b50",
   "metadata": {},
   "source": [
    "## Data Processing"
   ]
  },
  {
   "cell_type": "code",
   "execution_count": null,
   "id": "fcadb1d3",
   "metadata": {
    "scrolled": false
   },
   "outputs": [],
   "source": [
    "total = train_df.isnull().sum().sort_values(ascending=False)\n",
    "percent = (train_df.isnull().sum()/train_df.isnull().count()).sort_values(ascending=False)\n",
    "missing_data = pd.concat([total, percent], axis=1, keys=['Total', 'Percent'])\n",
    "missing_data.head(25)"
   ]
  },
  {
   "cell_type": "code",
   "execution_count": null,
   "id": "e4f50217",
   "metadata": {},
   "outputs": [],
   "source": [
    "train_df = train_df.drop((missing_data[missing_data['Total'] > 1]).index,1)\n",
    "train_df = train_df.drop(train_df.loc[train_df['Electrical'].isnull()].index)\n",
    "print(\"Number of missing data in dataframe:\", train_df.isnull().sum().max())"
   ]
  },
  {
   "cell_type": "markdown",
   "id": "68a68352",
   "metadata": {},
   "source": [
    "Removing features with missing data"
   ]
  },
  {
   "cell_type": "code",
   "execution_count": null,
   "id": "e0f39823",
   "metadata": {},
   "outputs": [],
   "source": [
    "train = pd.get_dummies(train_df)"
   ]
  },
  {
   "cell_type": "markdown",
   "id": "cf14fd4d",
   "metadata": {},
   "source": [
    "Converting categorical data to numerical data"
   ]
  },
  {
   "cell_type": "markdown",
   "id": "74e7d99f",
   "metadata": {},
   "source": [
    "## Trying Base Models"
   ]
  },
  {
   "cell_type": "code",
   "execution_count": null,
   "id": "11b2b4da",
   "metadata": {},
   "outputs": [],
   "source": [
    "from sklearn.linear_model import LinearRegression"
   ]
  },
  {
   "cell_type": "code",
   "execution_count": null,
   "id": "d3a02a94",
   "metadata": {},
   "outputs": [],
   "source": [
    "y = train['SalePrice']\n",
    "\n",
    "x = train.drop('SalePrice', axis = 1)"
   ]
  },
  {
   "cell_type": "code",
   "execution_count": null,
   "id": "21a65a41",
   "metadata": {},
   "outputs": [],
   "source": [
    "from sklearn.model_selection import train_test_split\n",
    "X_train, X_test, y_train, y_test = train_test_split(x, y, test_size=0.3, random_state=0)"
   ]
  },
  {
   "cell_type": "code",
   "execution_count": null,
   "id": "14ddf969",
   "metadata": {},
   "outputs": [],
   "source": [
    "lr = LinearRegression()"
   ]
  },
  {
   "cell_type": "code",
   "execution_count": null,
   "id": "283b27d0",
   "metadata": {},
   "outputs": [],
   "source": [
    "lr.fit(X_train, y_train)"
   ]
  },
  {
   "cell_type": "code",
   "execution_count": null,
   "id": "4b5a3f2e",
   "metadata": {},
   "outputs": [],
   "source": [
    "print(\"Training set score: {:.2f}\".format(lr.score(X_train, y_train))) \n",
    "print(\"Test set score: {:.2f}\".format(lr.score(X_test, y_test)))\n"
   ]
  },
  {
   "cell_type": "code",
   "execution_count": null,
   "id": "b703f146",
   "metadata": {},
   "outputs": [],
   "source": [
    "from sklearn.tree import DecisionTreeRegressor\n",
    "from sklearn.ensemble import RandomForestRegressor\n",
    "from xgboost import XGBRegressor"
   ]
  },
  {
   "cell_type": "code",
   "execution_count": null,
   "id": "80a5b8b2",
   "metadata": {},
   "outputs": [],
   "source": [
    "decision_model = DecisionTreeRegressor()  \n",
    "decision_model.fit(X_train, y_train)"
   ]
  },
  {
   "cell_type": "code",
   "execution_count": null,
   "id": "3d9c833a",
   "metadata": {},
   "outputs": [],
   "source": [
    "print(\"Training set score: {:.2f}\".format(decision_model.score(X_train, y_train))) \n",
    "print(\"Test set score: {:.2f}\".format(decision_model.score(X_test, y_test)))"
   ]
  },
  {
   "cell_type": "code",
   "execution_count": null,
   "id": "eb5ae567",
   "metadata": {},
   "outputs": [],
   "source": [
    "forest_model = RandomForestRegressor(n_estimators=100, max_depth=10)\n",
    "forest_model.fit(X_train, y_train)"
   ]
  },
  {
   "cell_type": "code",
   "execution_count": null,
   "id": "d575675c",
   "metadata": {},
   "outputs": [],
   "source": [
    "print(\"Training set score: {:.2f}\".format(forest_model.score(X_train, y_train))) \n",
    "print(\"Test set score: {:.2f}\".format(forest_model.score(X_test, y_test)))"
   ]
  },
  {
   "cell_type": "code",
   "execution_count": null,
   "id": "daaaddc5",
   "metadata": {},
   "outputs": [],
   "source": [
    "xg_model = XGBRegressor(n_estimators=100)\n",
    "xg_model.fit(X_train, y_train)"
   ]
  },
  {
   "cell_type": "code",
   "execution_count": null,
   "id": "f4272668",
   "metadata": {},
   "outputs": [],
   "source": [
    "print(\"Training set score: {:.2f}\".format(xg_model.score(X_train, y_train))) \n",
    "print(\"Test set score: {:.2f}\".format(xg_model.score(X_test, y_test)))"
   ]
  },
  {
   "cell_type": "code",
   "execution_count": null,
   "id": "44cdce9d",
   "metadata": {},
   "outputs": [],
   "source": [
    "p1 = max(max(forest_model.predict(X_train)), max(y_train))\n",
    "p2 = min(min(forest_model.predict(X_train)), min(y_train))\n",
    "plt.plot([p1, p2], [p1, p2], 'r-')\n",
    "plt.title('Training Data Accuracy')\n",
    "plt.xlabel('True Values')\n",
    "plt.ylabel('Predicted Values')\n",
    "plt.scatter(y_train, forest_model.predict(X_train))"
   ]
  },
  {
   "cell_type": "code",
   "execution_count": null,
   "id": "c2e16986",
   "metadata": {},
   "outputs": [],
   "source": [
    "p1 = max(max(forest_model.predict(X_test)), max(y_test))\n",
    "p2 = min(min(forest_model.predict(X_test)), min(y_test))\n",
    "plt.plot([p1, p2], [p1, p2], 'r-')\n",
    "plt.title('Test Data Accuracy')\n",
    "plt.xlabel('True Values')\n",
    "plt.ylabel('Predicted Values')\n",
    "plt.scatter(y_test, forest_model.predict(X_test))"
   ]
  },
  {
   "cell_type": "markdown",
   "id": "58005b88",
   "metadata": {},
   "source": [
    "# DNN"
   ]
  },
  {
   "cell_type": "code",
   "execution_count": null,
   "id": "578c92f9",
   "metadata": {},
   "outputs": [],
   "source": [
    "from tensorflow.keras.models import Sequential\n",
    "from tensorflow.keras.layers import Dense, Activation\n",
    "from tensorflow.keras.optimizers import Adam\n",
    "from keras.callbacks import EarlyStopping \n"
   ]
  },
  {
   "cell_type": "code",
   "execution_count": null,
   "id": "b2a859a6",
   "metadata": {},
   "outputs": [],
   "source": [
    "model = Sequential()\n",
    "\n",
    "model = Sequential()\n",
    "model.add(Dense(100, input_dim=X_train.shape[1], activation='relu'))\n",
    "model.add(Dense(100, activation='relu'))\n",
    "model.add(Dense(100, activation='relu'))\n",
    "model.add(Dense(100, activation='relu'))\n",
    "model.add(Dense(100, activation='relu'))\n",
    "model.add(Dense(100, activation='relu'))\n",
    "model.add(Dense(100, activation='relu'))\n",
    "model.add(Dense(1))\n",
    "# Compile model\n",
    "model.compile(optimizer=Adam(learning_rate=0.001), loss = 'mse')"
   ]
  },
  {
   "cell_type": "code",
   "execution_count": null,
   "id": "344c62c9",
   "metadata": {},
   "outputs": [],
   "source": [
    "early_stop = EarlyStopping(monitor='val_loss', mode='min', verbose=1, patience=10)\n",
    "history = model.fit(x=X_train,y=y_train,\n",
    "          validation_split=0.1,\n",
    "          batch_size=128,epochs=400)\n"
   ]
  },
  {
   "cell_type": "code",
   "execution_count": null,
   "id": "2e44c945",
   "metadata": {},
   "outputs": [],
   "source": [
    "losses = pd.DataFrame(model.history.history)\n",
    "losses.plot()"
   ]
  },
  {
   "cell_type": "code",
   "execution_count": null,
   "id": "2576688e",
   "metadata": {},
   "outputs": [],
   "source": [
    "model.summary()"
   ]
  },
  {
   "cell_type": "code",
   "execution_count": null,
   "id": "b46a3721",
   "metadata": {},
   "outputs": [],
   "source": [
    "loss_df = pd.DataFrame(model.history.history)\n",
    "loss_df.plot(figsize=(12,8))"
   ]
  },
  {
   "cell_type": "code",
   "execution_count": null,
   "id": "2cb2ab0d",
   "metadata": {},
   "outputs": [],
   "source": [
    "y_pred = model.predict(X_test)\n",
    "from sklearn import metrics\n",
    "print('MAE:', metrics.mean_absolute_error(y_test, y_pred))  \n",
    "print('MSE:', metrics.mean_squared_error(y_test, y_pred))  \n",
    "print('RMSE:', np.sqrt(metrics.mean_squared_error(y_test, y_pred)))\n",
    "print('VarScore:',metrics.explained_variance_score(y_test,y_pred))\n",
    "# Visualizing Our predictions\n",
    "fig = plt.figure(figsize=(10,5))\n",
    "plt.scatter(y_test,y_pred)\n",
    "# Perfect predictions\n",
    "plt.plot(y_test,y_test,'r')"
   ]
  },
  {
   "cell_type": "code",
   "execution_count": null,
   "id": "a4d01ced",
   "metadata": {},
   "outputs": [],
   "source": []
  }
 ],
 "metadata": {
  "kernelspec": {
   "display_name": "Python 3 (ipykernel)",
   "language": "python",
   "name": "python3"
  },
  "language_info": {
   "codemirror_mode": {
    "name": "ipython",
    "version": 3
   },
   "file_extension": ".py",
   "mimetype": "text/x-python",
   "name": "python",
   "nbconvert_exporter": "python",
   "pygments_lexer": "ipython3",
   "version": "3.8.12"
  }
 },
 "nbformat": 4,
 "nbformat_minor": 5
}
