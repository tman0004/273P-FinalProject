{
 "cells": [
  {
   "cell_type": "markdown",
   "id": "502e29d2",
   "metadata": {},
   "source": [
    "## Importing Libraries"
   ]
  },
  {
   "cell_type": "code",
   "execution_count": null,
   "id": "2c2aa53f",
   "metadata": {},
   "outputs": [],
   "source": [
    "import matplotlib.pyplot as plt\n",
    "import seaborn as sns\n",
    "import numpy as np \n",
    "import pandas as pd \n",
    "import os\n",
    "import warnings\n",
    "warnings.filterwarnings('ignore')"
   ]
  },
  {
   "cell_type": "markdown",
   "id": "f099bb09",
   "metadata": {},
   "source": [
    "## Data Analysis"
   ]
  },
  {
   "cell_type": "code",
   "execution_count": null,
   "id": "0553ea77",
   "metadata": {},
   "outputs": [],
   "source": [
    "train_df = pd.read_csv('data/train.csv')\n",
    "test_df = pd.read_csv('data/test.csv')"
   ]
  },
  {
   "cell_type": "code",
   "execution_count": null,
   "id": "02fd4eca",
   "metadata": {},
   "outputs": [],
   "source": [
    "train_df.info()"
   ]
  },
  {
   "cell_type": "code",
   "execution_count": null,
   "id": "155377fb",
   "metadata": {},
   "outputs": [],
   "source": [
    "data = pd.concat([train_df['SalePrice'], train_df['GrLivArea']], axis=1)\n",
    "data.plot.scatter(x='GrLivArea', y='SalePrice', ylim=(0,900000));"
   ]
  },
  {
   "cell_type": "markdown",
   "id": "c71a3777",
   "metadata": {},
   "source": [
    "Positive correlation between SalePrice and livng area square footage"
   ]
  },
  {
   "cell_type": "code",
   "execution_count": null,
   "id": "017a0336",
   "metadata": {},
   "outputs": [],
   "source": [
    "data = pd.concat([train_df['SalePrice'], train_df['YearBuilt']], axis=1)\n",
    "data.plot.scatter(x='YearBuilt', y='SalePrice');"
   ]
  },
  {
   "cell_type": "markdown",
   "id": "b7aa60b3",
   "metadata": {},
   "source": [
    "Exponential like correlation between SalePrice and YearBuilt"
   ]
  },
  {
   "cell_type": "code",
   "execution_count": null,
   "id": "efe1c7e9",
   "metadata": {},
   "outputs": [],
   "source": [
    "data = pd.concat([train_df['SalePrice'], train_df['OverallQual']], axis=1)\n",
    "f, ax = plt.subplots(figsize=(8, 6))\n",
    "fig = sns.boxplot(x='OverallQual', y=\"SalePrice\", data=data)\n",
    "fig.axis(ymin=0, ymax=800000);"
   ]
  },
  {
   "cell_type": "markdown",
   "id": "5e13de77",
   "metadata": {},
   "source": [
    "Positive correlation between SalePrice and OverallQual"
   ]
  },
  {
   "cell_type": "code",
   "execution_count": null,
   "id": "96a7f785",
   "metadata": {},
   "outputs": [],
   "source": [
    "corrmat = train_df.corr()\n",
    "f, ax = plt.subplots(figsize=(12, 9))\n",
    "sns.heatmap(corrmat, vmax=.8, square=True);"
   ]
  },
  {
   "cell_type": "markdown",
   "id": "e58ab416",
   "metadata": {},
   "source": [
    "Corrleation between features"
   ]
  },
  {
   "cell_type": "code",
   "execution_count": null,
   "id": "28ccf1fa",
   "metadata": {},
   "outputs": [],
   "source": [
    "k = 10 #number of variables for heatmap\n",
    "cols = corrmat.nlargest(k, 'SalePrice')['SalePrice'].index\n",
    "cm = np.corrcoef(train_df[cols].values.T)\n",
    "sns.set(font_scale=1.25)\n",
    "hm = sns.heatmap(cm, cbar=True, annot=True, square=True, fmt='.2f', annot_kws={'size': 10}, yticklabels=cols.values, xticklabels=cols.values)\n",
    "plt.show()"
   ]
  },
  {
   "cell_type": "markdown",
   "id": "8e075e93",
   "metadata": {},
   "source": [
    "Correlation between top 10 most correlated features with respect to SalePrice"
   ]
  },
  {
   "cell_type": "markdown",
   "id": "e1329b50",
   "metadata": {},
   "source": [
    "## Data Processing"
   ]
  },
  {
   "cell_type": "code",
   "execution_count": null,
   "id": "fcadb1d3",
   "metadata": {
    "scrolled": false
   },
   "outputs": [],
   "source": [
    "total = train_df.isnull().sum().sort_values(ascending=False)\n",
    "percent = (train_df.isnull().sum()/train_df.isnull().count()).sort_values(ascending=False)\n",
    "missing_data = pd.concat([total, percent], axis=1, keys=['Total', 'Percent'])\n",
    "missing_data.head(25)"
   ]
  },
  {
   "cell_type": "code",
   "execution_count": null,
   "id": "e4f50217",
   "metadata": {},
   "outputs": [],
   "source": [
    "train_df = train_df.drop((missing_data[missing_data['Total'] > 1]).index,1)\n",
    "train_df = train_df.drop(train_df.loc[train_df['Electrical'].isnull()].index)\n",
    "print(\"Number of missing data in dataframe:\", train_df.isnull().sum().max())"
   ]
  },
  {
   "cell_type": "markdown",
   "id": "68a68352",
   "metadata": {},
   "source": [
    "Removing features with missing data"
   ]
  },
  {
   "cell_type": "code",
   "execution_count": null,
   "id": "e0f39823",
   "metadata": {},
   "outputs": [],
   "source": [
    "train = pd.get_dummies(train_df)"
   ]
  },
  {
   "cell_type": "markdown",
   "id": "cf14fd4d",
   "metadata": {},
   "source": [
    "Converting categorical data to numerical data"
   ]
  },
  {
   "cell_type": "markdown",
   "id": "74e7d99f",
   "metadata": {},
   "source": [
    "## Trying Base Models"
   ]
  },
  {
   "cell_type": "code",
   "execution_count": null,
   "id": "11b2b4da",
   "metadata": {},
   "outputs": [],
   "source": [
    "from sklearn.linear_model import LinearRegression"
   ]
  },
  {
   "cell_type": "code",
   "execution_count": null,
   "id": "d3a02a94",
   "metadata": {},
   "outputs": [],
   "source": [
    "y = train['SalePrice']\n",
    "x = train.drop('SalePrice', axis = 1)\n",
    "x = train.drop('Id', axis = 1)"
   ]
  },
  {
   "cell_type": "code",
   "execution_count": null,
   "id": "21a65a41",
   "metadata": {},
   "outputs": [],
   "source": [
    "from sklearn.model_selection import train_test_split\n",
    "X_train, X_test, y_train, y_test = train_test_split(x, y, test_size=0.3, random_state=0)"
   ]
  },
  {
   "cell_type": "code",
   "execution_count": null,
   "id": "b703f146",
   "metadata": {},
   "outputs": [],
   "source": [
    "from sklearn.ensemble import RandomForestRegressor\n",
    "from xgboost import XGBRegressor"
   ]
  },
  {
   "cell_type": "code",
   "execution_count": null,
   "id": "e9b6ee8f",
   "metadata": {},
   "outputs": [],
   "source": [
    "n_est_params = [10, 20, 30, 40, 50, 60, 70, 80, 90, 100]\n",
    "max_depth_params = [5, 6, 7, 8, 9, 10, 11, 12, 13, 14, 15]\n",
    "f_model_acc = [0, 0, 0]"
   ]
  },
  {
   "cell_type": "code",
   "execution_count": null,
   "id": "8a40e391",
   "metadata": {},
   "outputs": [],
   "source": [
    "'''for i in n_est_params:\n",
    "    for j in max_depth_params:\n",
    "        f_model = RandomForestRegressor(n_estimators=i, max_depth=j)\n",
    "        f_model.fit(X_train, y_train)\n",
    "        print(f_model.score(X_test, y_test))\n",
    "        if f_model.score(X_test, y_test) > f_model_acc[0]:\n",
    "            f_model_acc[0] = f_model.score(X_test, y_test)\n",
    "            f_model_acc[1] = i\n",
    "            f_model_acc[2] = j\n",
    "'''"
   ]
  },
  {
   "cell_type": "code",
   "execution_count": null,
   "id": "e46b446b",
   "metadata": {},
   "outputs": [],
   "source": [
    "#print(\"Highest acc:\", f_model_acc[0], \"with n_est:\", f_model_acc[1], \"and max_depth:\", f_model_acc[2])"
   ]
  },
  {
   "cell_type": "code",
   "execution_count": null,
   "id": "eb5ae567",
   "metadata": {},
   "outputs": [],
   "source": [
    "forest_model = RandomForestRegressor(n_estimators=70, max_depth=10)\n",
    "forest_model.fit(X_train, y_train)"
   ]
  },
  {
   "cell_type": "code",
   "execution_count": null,
   "id": "77da3a94",
   "metadata": {},
   "outputs": [],
   "source": [
    "n_est_params = [50, 60, 70, 80, 90, 100, 110, 120, 130, 140, 150]\n",
    "max_depth_params = [5, 6, 7, 8, 9, 10, 11, 12, 13, 14, 15]\n",
    "learning_rate = [0.0001, 0.001, 0.01, 0.1, 0.2, 0.3]\n",
    "x_model_acc = [0, 0, 0, 0]"
   ]
  },
  {
   "cell_type": "code",
   "execution_count": null,
   "id": "0669d3f0",
   "metadata": {},
   "outputs": [],
   "source": [
    "from sklearn.model_selection import cross_val_score, KFold"
   ]
  },
  {
   "cell_type": "code",
   "execution_count": null,
   "id": "b4b4d281",
   "metadata": {},
   "outputs": [],
   "source": [
    "'''for i in n_est_params:\n",
    "    for j in max_depth_params:\n",
    "        for k in learning_rate:\n",
    "            x_model = XGBRegressor(n_estimators=i, max_depth=j)\n",
    "            x_model.fit(X_train, y_train)\n",
    "            kfold = KFold(n_splits=10, shuffle=True)\n",
    "            kf_cv_scores = cross_val_score(x_model, X_train, y_train, cv=kfold)\n",
    "            print(kf_cv_scores.mean())\n",
    "            if kf_cv_scores.mean() > x_model_acc[0]:\n",
    "                x_model_acc[0] = kf_cv_scores.mean()\n",
    "                x_model_acc[1] = i\n",
    "                x_model_acc[2] = j\n",
    "                x_model_acc[3] = k\n",
    "'''"
   ]
  },
  {
   "cell_type": "code",
   "execution_count": null,
   "id": "6a4ed712",
   "metadata": {
    "scrolled": true
   },
   "outputs": [],
   "source": [
    "#print(\"Highest acc:\", x_model_acc[0], \"\\nn_est:\", x_model_acc[1], \"\\nmax_depth:\", x_model_acc[2], \"\\nlearning rate:\", x_model_acc[3])"
   ]
  },
  {
   "cell_type": "code",
   "execution_count": null,
   "id": "55650aa0",
   "metadata": {},
   "outputs": [],
   "source": [
    "xg_model = XGBRegressor(n_estimators=140, max_depth=5, learning_rate=0.2)\n",
    "xg_model.fit(X_train, y_train)"
   ]
  },
  {
   "cell_type": "code",
   "execution_count": null,
   "id": "f4db9032",
   "metadata": {},
   "outputs": [],
   "source": [
    "f, ax = plt.subplots(2, 2, figsize=(15,15))\n",
    "ax[0,0].plot(y_train, y_train, 'r-')\n",
    "ax[0,0].set(title='Random Forest Model Training Data Accuracy', xlabel='True Values', ylabel='Predicted Values')\n",
    "ax[0,0].scatter(y_train, forest_model.predict(X_train))\n",
    "\n",
    "ax[1,0].plot(y_test, y_test, 'r-')\n",
    "ax[1,0].set(title='Random Forest Model Test Data Accuracy', xlabel='True Values', ylabel='Predicted Values')\n",
    "ax[1,0].scatter(y_test, forest_model.predict(X_test))\n",
    "\n",
    "ax[0,1].plot(y_train, y_train, 'r-')\n",
    "ax[0,1].set(title='XG Boost Model Training Data Accuracy', xlabel='True Values', ylabel='Predicted Values')\n",
    "ax[0,1].scatter(y_train, xg_model.predict(X_train))\n",
    "\n",
    "ax[1,1].plot(y_test, y_test, 'r-')\n",
    "ax[1,1].set(title='XG Boost Model Test Data Accuracy', xlabel='True Values', ylabel='Predicted Values')\n",
    "ax[1,1].scatter(y_test, xg_model.predict(X_test))"
   ]
  },
  {
   "cell_type": "code",
   "execution_count": null,
   "id": "976ff633",
   "metadata": {},
   "outputs": [],
   "source": []
  }
 ],
 "metadata": {
  "kernelspec": {
   "display_name": "Python 3 (ipykernel)",
   "language": "python",
   "name": "python3"
  },
  "language_info": {
   "codemirror_mode": {
    "name": "ipython",
    "version": 3
   },
   "file_extension": ".py",
   "mimetype": "text/x-python",
   "name": "python",
   "nbconvert_exporter": "python",
   "pygments_lexer": "ipython3",
   "version": "3.8.12"
  }
 },
 "nbformat": 4,
 "nbformat_minor": 5
}
